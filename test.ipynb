{
 "cells": [
  {
   "cell_type": "code",
   "execution_count": 2,
   "metadata": {},
   "outputs": [
    {
     "name": "stderr",
     "output_type": "stream",
     "text": [
      "/Users/mei/anaconda3/envs/planet/lib/python3.10/site-packages/tqdm/auto.py:21: TqdmWarning: IProgress not found. Please update jupyter and ipywidgets. See https://ipywidgets.readthedocs.io/en/stable/user_install.html\n",
      "  from .autonotebook import tqdm as notebook_tqdm\n"
     ]
    }
   ],
   "source": [
    "import argparse\n",
    "from datetime import datetime   \n",
    "import json\n",
    "import os\n",
    "from pprint import pprint\n",
    "import numpy as np\n",
    "import torch\n",
    "from torch.distributions import kl_divergence\n",
    "from torch.nn.functional import mse_loss\n",
    "from torch.nn.utils import clip_grad_norm_\n",
    "from torch.optim import Adam\n",
    "from torch.utils.tensorboard import SummaryWriter\n",
    "from dm_control import suite\n",
    "from dm_control.suite.wrappers import pixels"
   ]
  },
  {
   "cell_type": "code",
   "execution_count": 12,
   "metadata": {},
   "outputs": [
    {
     "name": "stdout",
     "output_type": "stream",
     "text": [
      "[[[0 0 0]]\n",
      "\n",
      " [[1 1 1]]\n",
      "\n",
      " [[2 2 2]]] (3, 1, 3)\n",
      "[[[0 0 0]]\n",
      "\n",
      " [[1 1 1]]\n",
      "\n",
      " [[2 2 2]]]\n"
     ]
    }
   ],
   "source": [
    "def main():\n",
    "    parser = argparse.ArgumentParser(description='pytorch implementation of PlaNet by LinboWang')\n",
    "    parser.add_argument('--seed', type=int, default=0)\n",
    "    parser.add_argument('--log-dir', type=str, default='log')\n",
    "    parser.add_argument('--test-interval', type=int, default=10)\n",
    "    parser.add_argument('--domain-name', type=str, default='cheetah')\n",
    "    parser.add_argument('--task-name', type=str, default='run')\n",
    "    parser.add_argument('--action-repeat', type=int, default=4) # cheetah 4; cartpole 8; reacher 4; finger 2; cup 4; walker 2\n",
    "    parser.add_argument('--state-dim', type=int, default=30) # Distributions in latent space are 30-dimensional diagonal Gaussians with predicted mean and standard deviation.\n",
    "    parser.add_argument('--rnn-hidden-dim', type=int, default=200) # a GRU (Cho et al., 2014) with 200 units as deterministic path in the dynamics model\n",
    "    parser.add_argument('--buffer-capacity', type=int, default=1000000)\n",
    "    parser.add_argument('--all-episodes', type=int, default=200)\n",
    "    parser.add_argument('--seed-episodes', type=int, default=5) # We start from S = 5 seed episodes with random actions\n",
    "    parser.add_argument('--update-steps', type=int, default=100) # collect another episode every C = 100 update steps\n",
    "    parser.add_argument('--batch-size', type=int, default=50) # batches of B = 50\n",
    "    parser.add_argument('sequence-chunk-length', type=int, default=50) # sequence chunks of length L = 50\n",
    "    parser.add_argument('--lr', type=float, default=1e-3)\n",
    "    parser.add_argument('--epsilon', type=float, default=1e-4) # The model is trained using the Adam optimizer (Kingma & Ba, 2014) with a learning rate of 1e-3, epsilon = 1e−4\n",
    "    parser.add_argument('--clip-grad-norm', type=int, default=1000) # gradient clipping norm of 1000\n",
    "    parser.add_argument('--free-nats', type=int, default=3) # grant the model 3 free nats by clipping the divergence loss below this value\n",
    "    \"\"\"\n",
    "    For planning, we use:\n",
    "    CEM with horizon length H = 12, \n",
    "    optimization iterations I = 10, \n",
    "    candidate samples J = 1000, \n",
    "    and refitting to the best K = 100\n",
    "    \"\"\"\n",
    "    parser.add_argument('--horizon', type=int, default=12)\n",
    "    parser.add_argument('--N-iterations', type=int, default=10)\n",
    "    parser.add_argument('--N-candidates', type=int, default=1000)\n",
    "    parser.add_argument('--N-top-candidates', type=int, default=100)\n",
    "    parser.add_argument('--action-noise-var', type=float, default=0.3) # under epsilon ∼ Normal(0, 0.3) action noise\n",
    "    args = parser.parse_args()\n",
    "    \n",
    "    # 准备训练日志的输出路径\n",
    "    log_dir = os.path.join(args.log_dir, args.domain_name + '_' + args.task_name)\n",
    "    log_dir = os.path.join(log_dir, datetime.now().strftime('%Y%m%d_%H%M'))\n",
    "    os.makedirs(log_dir)\n",
    "    with open(os.path.join(log_dir, 'args.json'), 'w') as f:\n",
    "        json.dump(vars(args), f) # 写入超参数到 json 文件中\n",
    "    pprint(vars(args))\n",
    "    writer = SummaryWriter(log_dir=log_dir) # 初始化 TensorBoard 日志\n",
    "    \n",
    "    # 设定随机数种子\n",
    "    np.random.seed(args.seed)\n",
    "    torch.manual_seed(args.seed)\n",
    "    if torch.cuda.is_available():\n",
    "        torch.cuda.manual_seed(args.seed)\n",
    "    \n",
    "    # 创建 dm_control 环境并用 GymWrapper 修饰，其中包含了 RepeatStep\n",
    "    env = suite.load(args.domain_name, args.task_name, task_kwargs={'random': args.seed})\n",
    "    env = pixels.Wrapper(env, render_kwargs={'height': 64, 'width': 64, 'camera_id': 0})\n",
    "    \n",
    "    \n",
    "    # seed episodes，随机策略收集经验\n",
    "    \n",
    "    # 剩余的 episodes，固定步长更新模型参数并根据 CEM 算法进行动作规划\n",
    "    \n",
    "        # 每 10 个更新步长测试一次\n",
    "    \n",
    "    # 保存模型参数，供测试和重建观测视频\n",
    "    \n",
    "matrix = np.array([[[0, 0, 0]],\n",
    "                  [[1, 1, 1]],\n",
    "                  [[2, 2, 2]]])\n",
    "print(matrix, matrix.shape)\n",
    "print(matrix[:])"
   ]
  },
  {
   "cell_type": "code",
   "execution_count": 1,
   "metadata": {},
   "outputs": [
    {
     "name": "stdout",
     "output_type": "stream",
     "text": [
      "torch.Size([7, 5, 20])\n"
     ]
    },
    {
     "name": "stderr",
     "output_type": "stream",
     "text": [
      "/Users/mei/anaconda3/envs/planet/lib/python3.10/site-packages/tqdm/auto.py:21: TqdmWarning: IProgress not found. Please update jupyter and ipywidgets. See https://ipywidgets.readthedocs.io/en/stable/user_install.html\n",
      "  from .autonotebook import tqdm as notebook_tqdm\n"
     ]
    }
   ],
   "source": [
    "import torch\n",
    "import torch.nn as nn\n",
    "\n",
    "# 参数设置\n",
    "input_size = 10\n",
    "hidden_size = 20\n",
    "batch_size = 5\n",
    "sequence_length = 7\n",
    "\n",
    "# 创建 GRUCell 实例\n",
    "gru_cell = nn.GRUCell(input_size, hidden_size)\n",
    "\n",
    "# 初始化隐藏状态\n",
    "hx = torch.zeros(batch_size, hidden_size)\n",
    "\n",
    "# 生成随机输入数据\n",
    "input_data = torch.randn(sequence_length, batch_size, input_size)\n",
    "\n",
    "# 处理时间步数据\n",
    "outputs = []\n",
    "for i in range(sequence_length):\n",
    "    hx = gru_cell(input_data[i], hx)\n",
    "    outputs.append(hx)\n",
    "\n",
    "# 将输出转换为张量\n",
    "outputs = torch.stack(outputs)\n",
    "\n",
    "print(outputs.shape)  # 输出形状: (sequence_length, batch_size, hidden_size)\n"
   ]
  },
  {
   "cell_type": "code",
   "execution_count": null,
   "metadata": {},
   "outputs": [],
   "source": []
  }
 ],
 "metadata": {
  "kernelspec": {
   "display_name": "planet",
   "language": "python",
   "name": "python3"
  },
  "language_info": {
   "codemirror_mode": {
    "name": "ipython",
    "version": 3
   },
   "file_extension": ".py",
   "mimetype": "text/x-python",
   "name": "python",
   "nbconvert_exporter": "python",
   "pygments_lexer": "ipython3",
   "version": "3.10.16"
  }
 },
 "nbformat": 4,
 "nbformat_minor": 2
}
